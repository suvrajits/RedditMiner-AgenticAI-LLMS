{
 "cells": [
  {
   "cell_type": "markdown",
   "metadata": {},
   "source": [
    "# 🧠 01_rag_index_reddit_posts_chunked.ipynb\n",
    "Build a FAISS vector store from the latest cleaned Reddit posts using chunking."
   ]
  },
  {
   "cell_type": "code",
   "execution_count": null,
   "metadata": {},
   "outputs": [],
   "source": [
    "%pip install faiss-cpu openai pandas python-dotenv tiktoken langchain"
   ]
  },
  {
   "cell_type": "code",
   "execution_count": null,
   "metadata": {},
   "outputs": [],
   "source": [
    "import os\n",
    "import json\n",
    "import openai\n",
    "import pandas as pd\n",
    "import numpy as np\n",
    "import faiss\n",
    "from dotenv import load_dotenv\n",
    "from datetime import datetime\n",
    "from glob import glob\n",
    "from langchain.text_splitter import RecursiveCharacterTextSplitter\n",
    "from sklearn.preprocessing import normalize\n",
    "from tqdm import tqdm"
   ]
  },
  {
   "cell_type": "code",
   "execution_count": null,
   "metadata": {},
   "outputs": [],
   "source": [
    "# ✅ Load environment variables\n",
    "load_dotenv()\n",
    "openai.api_key = os.getenv(\"OPENAI_API_KEY\")"
   ]
  },
  {
   "cell_type": "code",
   "execution_count": null,
   "metadata": {},
   "outputs": [],
   "source": [
    "# ✅ Get latest cleaned file\n",
    "cleaned_path = os.path.abspath(\"../data/cleaned_posts\")\n",
    "cleaned_files = sorted(glob(os.path.join(cleaned_path, \"*clean_all.json\")), reverse=True)\n",
    "latest_file = cleaned_files[0]\n",
    "print(f\"📁 Using file: {latest_file}\")\n",
    "\n",
    "with open(latest_file, encoding=\"utf-8\") as f:\n",
    "    all_posts = json.load(f)\n",
    "\n",
    "print(f\"✅ Loaded {len(all_posts)} posts from latest file.\")"
   ]
  },
  {
   "cell_type": "code",
   "execution_count": null,
   "metadata": {},
   "outputs": [],
   "source": [
    "# ✅ Split into chunks using LangChain text splitter\n",
    "splitter = RecursiveCharacterTextSplitter(chunk_size=1000, chunk_overlap=200)\n",
    "documents = []\n",
    "metadatas = []\n",
    "\n",
    "for post in tqdm(all_posts):\n",
    "    base_text = f\"{post['title']}\\n{post['selftext']}\\n\\nComments:\\n\" + \"\\n\".join([c['body'] for c in post.get('comments', [])])\n",
    "    chunks = splitter.split_text(base_text)\n",
    "    for chunk in chunks:\n",
    "        documents.append(chunk)\n",
    "        metadatas.append({\n",
    "            \"id\": post['id'],\n",
    "            \"subreddit\": post.get(\"subreddit\", \"\"),\n",
    "            \"created\": post.get(\"created_local\", \"\"),\n",
    "            \"url\": post[\"url\"]\n",
    "        })"
   ]
  },
  {
   "cell_type": "code",
   "execution_count": null,
   "metadata": {},
   "outputs": [],
   "source": [
    "# ✅ Embed using OpenAI Ada model\n",
    "def get_embedding(text):\n",
    "    return openai.Embedding.create(input=[text.replace(\"\\n\", \" \")], model=\"text-embedding-ada-002\")['data'][0]['embedding']\n",
    "\n",
    "embeddings = [get_embedding(doc) for doc in tqdm(documents)]\n",
    "embeddings_np = normalize(np.array(embeddings).astype(\"float32\"))"
   ]
  },
  {
   "cell_type": "code",
   "execution_count": null,
   "metadata": {},
   "outputs": [],
   "source": [
    "# ✅ Save FAISS index\n",
    "index = faiss.IndexFlatL2(embeddings_np.shape[1])\n",
    "index.add(embeddings_np)\n",
    "\n",
    "output_dir = os.path.abspath(\"../data/vectorstore\")\n",
    "os.makedirs(output_dir, exist_ok=True)\n",
    "faiss.write_index(index, os.path.join(output_dir, \"reddit_index.faiss\"))\n",
    "with open(os.path.join(output_dir, \"reddit_metadata.json\"), \"w\", encoding=\"utf-8\") as f:\n",
    "    json.dump(metadatas, f, indent=2)\n",
    "\n",
    "print(\"✅ Index and metadata saved.\")"
   ]
  }
 ],
 "metadata": {
  "kernelspec": {
   "display_name": "Python 3 (ipykernel)",
   "language": "python",
   "name": "python3"
  },
  "language_info": {
   "codemirror_mode": {
    "name": "ipython",
    "version": 3
   },
   "file_extension": ".py",
   "mimetype": "text/x-python",
   "name": "python",
   "nbconvert_exporter": "python",
   "pygments_lexer": "ipython3",
   "version": "3.11.11"
  }
 },
 "nbformat": 4,
 "nbformat_minor": 4
}
